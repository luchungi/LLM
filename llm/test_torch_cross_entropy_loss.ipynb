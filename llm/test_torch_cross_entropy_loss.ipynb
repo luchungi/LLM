{
 "cells": [
  {
   "cell_type": "code",
   "execution_count": 1,
   "id": "ce346610",
   "metadata": {},
   "outputs": [],
   "source": [
    "import torch\n",
    "import torch.nn as nn"
   ]
  },
  {
   "cell_type": "code",
   "execution_count": 47,
   "id": "f687f362",
   "metadata": {},
   "outputs": [],
   "source": [
    "N = 4  # batch size\n",
    "C = 3  # number of classes"
   ]
  },
  {
   "cell_type": "code",
   "execution_count": 48,
   "id": "63ad930b",
   "metadata": {},
   "outputs": [
    {
     "name": "stdout",
     "output_type": "stream",
     "text": [
      "tensor([2, 2, 0, 0])\n"
     ]
    },
    {
     "data": {
      "text/plain": [
       "torch.Size([4])"
      ]
     },
     "execution_count": 48,
     "metadata": {},
     "output_type": "execute_result"
    }
   ],
   "source": [
    "targets = torch.randint(0, C, (N,), dtype=torch.long)\n",
    "print(targets)\n",
    "targets.shape"
   ]
  },
  {
   "cell_type": "code",
   "execution_count": 49,
   "id": "dbc4cc27",
   "metadata": {},
   "outputs": [
    {
     "name": "stdout",
     "output_type": "stream",
     "text": [
      "tensor([[-2.5859, -4.2235,  2.9367],\n",
      "        [ 0.1978, -0.5029, -0.6672],\n",
      "        [ 0.3942, -1.7594,  2.5173],\n",
      "        [-1.8925,  3.7303,  0.0526]])\n"
     ]
    },
    {
     "data": {
      "text/plain": [
       "torch.Size([4, 3])"
      ]
     },
     "execution_count": 49,
     "metadata": {},
     "output_type": "execute_result"
    }
   ],
   "source": [
    "logits = torch.randn(N, C, requires_grad=False)*2.\n",
    "print(logits)\n",
    "logits.shape"
   ]
  },
  {
   "cell_type": "code",
   "execution_count": 50,
   "id": "2e1e454b",
   "metadata": {},
   "outputs": [
    {
     "name": "stdout",
     "output_type": "stream",
     "text": [
      "tensor([4.7611e-03, 1.5159e+00, 2.2484e+00, 5.6513e+00])\n"
     ]
    },
    {
     "data": {
      "text/plain": [
       "torch.Size([4])"
      ]
     },
     "execution_count": 50,
     "metadata": {},
     "output_type": "execute_result"
    }
   ],
   "source": [
    "loss_fn = nn.CrossEntropyLoss(reduction='none')\n",
    "loss = loss_fn(logits, targets)\n",
    "print(loss)\n",
    "loss.shape"
   ]
  },
  {
   "cell_type": "code",
   "execution_count": 51,
   "id": "a4e192ea",
   "metadata": {},
   "outputs": [
    {
     "name": "stdout",
     "output_type": "stream",
     "text": [
      "tensor([[3.9766e-03, 7.7321e-04, 9.9525e-01],\n",
      "        [5.2156e-01, 2.5883e-01, 2.1961e-01],\n",
      "        [1.0557e-01, 1.2252e-02, 8.8218e-01],\n",
      "        [3.5130e-03, 9.7192e-01, 2.4571e-02]])\n"
     ]
    }
   ],
   "source": [
    "probabilities = nn.Softmax(dim=-1)(logits)\n",
    "print(probabilities)"
   ]
  },
  {
   "cell_type": "code",
   "execution_count": 52,
   "id": "74ef47dc",
   "metadata": {},
   "outputs": [
    {
     "name": "stdout",
     "output_type": "stream",
     "text": [
      "tensor(0.0048)\n",
      "tensor(1.5159)\n",
      "tensor(2.2484)\n",
      "tensor(5.6513)\n"
     ]
    }
   ],
   "source": [
    "for i in range(4):\n",
    "    print(-torch.log(probabilities[i][targets[i]]))"
   ]
  }
 ],
 "metadata": {
  "kernelspec": {
   "display_name": "llm",
   "language": "python",
   "name": "python3"
  },
  "language_info": {
   "codemirror_mode": {
    "name": "ipython",
    "version": 3
   },
   "file_extension": ".py",
   "mimetype": "text/x-python",
   "name": "python",
   "nbconvert_exporter": "python",
   "pygments_lexer": "ipython3",
   "version": "3.12.11"
  }
 },
 "nbformat": 4,
 "nbformat_minor": 5
}
